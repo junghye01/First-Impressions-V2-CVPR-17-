{
 "cells": [
  {
   "cell_type": "code",
   "execution_count": 3,
   "id": "aed601da",
   "metadata": {},
   "outputs": [],
   "source": [
    "import os\n",
    "import sys\n",
    "import subprocess"
   ]
  },
  {
   "cell_type": "markdown",
   "id": "da0c05d2",
   "metadata": {},
   "source": [
    "# video_to_wav"
   ]
  },
  {
   "cell_type": "code",
   "execution_count": 10,
   "id": "22ec25d9",
   "metadata": {
    "scrolled": true
   },
   "outputs": [
    {
     "name": "stdout",
     "output_type": "stream",
     "text": [
      "E:\\first_impressions_v2_2017\\chalearn_mp4\\--Ymqszjv54.000.mp4\n",
      "E:\\first_impressions_v2_2017\\tmp_wav\\--Ymqszjv54.000.mp4.wav\n",
      "ffmpeg -i E:\\first_impressions_v2_2017\\chalearn_mp4\\--Ymqszjv54.000.mp4 -ac 1 -ar 22050 E:\\first_impressions_v2_2017\\tmp_wav\\--Ymqszjv54.000.mp4.wav\n",
      "OK\n",
      "\n",
      "E:\\first_impressions_v2_2017\\tmp_wav\\--Ymqszjv54.000.mp4.wav\n",
      "E:\\first_impressions_v2_2017\\tmp_pyaudiofeatures_30\\--Ymqszjv54.000.mp4.wav\n",
      "python .\\pyAudioAnalysis-master\\pyAudioAnalysis\\audioAnalysis.py featureExtractionFile -i E:\\first_impressions_v2_2017\\tmp_wav\\--Ymqszjv54.000.mp4.wav -mw 0.5 -ms 0.5 -sw 0.5 -ss 0.5 -o E:\\first_impressions_v2_2017\\tmp_pyaudiofeatures_30\\--Ymqszjv54.000.mp4.wav\n"
     ]
    }
   ],
   "source": [
    "video_path = 'E:\\\\first_impressions_v2_2017\\\\chalearn_mp4\\\\'\n",
    "wav_path = 'E:\\\\first_impressions_v2_2017\\\\tmp_wav\\\\'\n",
    "csv_path = 'E:\\\\first_impressions_v2_2017\\\\tmp_pyaudiofeatures_30\\\\'\n",
    "excute_filename = '.\\\\pyAudioAnalysis-master\\\\pyAudioAnalysis\\\\audioAnalysis.py featureExtractionFile'\n",
    "\n",
    "for mp4_filename in os.listdir(video_path):\n",
    "    input_filename = video_path + mp4_filename\n",
    "    print(input_filename)\n",
    "    \n",
    "    output_filename = wav_path + mp4_filename + '.wav'\n",
    "    print(output_filename)\n",
    "    \n",
    "    command = \"ffmpeg -i {} -ac 1 -ar 22050 {}\".format(input_filename, output_filename)\n",
    "    print(command)\n",
    "    \n",
    "    subprocess.call(command, shell=True)\n",
    "    print(\"OK\\n\")\n",
    "    #############################################################################################\n",
    "    input_filename = output_filename\n",
    "    print(input_filename)\n",
    "    output_filename = csv_path + mp4_filename + '.wav'\n",
    "    print(output_filename)\n",
    "    command = \"python {} -i {} -mw 0.5 -ms 0.5 -sw 0.5 -ss 0.5 -o {}\".format(excute_filename, input_filename, output_filename)\n",
    "    print(command)\n",
    "    subprocess.call(command, shell=True)\n",
    "    for filename in os.listdir(csv_path):\n",
    "        if filename[-6:] == 'mt.csv' or filename[-6:] == 'mt.npy' or filename[-6:] == 'st.npy':\n",
    "            command = 'del {}'.format(csv_path + filename)\n",
    "            subprocess.call(command, shell=True)\n",
    "    break"
   ]
  }
 ],
 "metadata": {
  "kernelspec": {
   "display_name": "Python 3 (ipykernel)",
   "language": "python",
   "name": "python3"
  },
  "language_info": {
   "codemirror_mode": {
    "name": "ipython",
    "version": 3
   },
   "file_extension": ".py",
   "mimetype": "text/x-python",
   "name": "python",
   "nbconvert_exporter": "python",
   "pygments_lexer": "ipython3",
   "version": "3.8.16"
  }
 },
 "nbformat": 4,
 "nbformat_minor": 5
}
