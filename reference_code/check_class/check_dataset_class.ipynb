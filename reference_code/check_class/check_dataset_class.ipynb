{
 "cells": [
  {
   "cell_type": "code",
   "execution_count": 1,
   "metadata": {},
   "outputs": [],
   "source": [
    "import yaml\n",
    "import sys\n",
    "sys.path.append('../')\n",
    "from dataset import Chalearn_VideoDataset\n",
    "from dataset.transform import Chalearn_VideoTransform\n",
    "\n",
    "config_path = \"./check_class.yaml\"\n",
    "cfg = yaml.load(open(config_path, \"r\"), Loader=yaml.FullLoader)\n",
    "\n",
    "video_transform = Chalearn_VideoTransform()\n",
    "\n",
    "train_dataset = Chalearn_VideoDataset(\n",
    "    video_dir = cfg['datamodule']['video_dir'],\n",
    "    label_dir = cfg['datamodule']['label_dir']['train'],\n",
    "    target_list = cfg['datamodule']['target_list'],\n",
    "    frame_count = cfg['datamodule']['frame_count'],\n",
    "    seed = cfg['datamodule']['seed'],\n",
    "    video_transform = video_transform\n",
    ")\n",
    "\n",
    "valid_dataset = Chalearn_VideoDataset(\n",
    "    video_dir = cfg['datamodule']['video_dir'],\n",
    "    label_dir = cfg['datamodule']['label_dir']['valid'],\n",
    "    target_list = cfg['datamodule']['target_list'],\n",
    "    frame_count = cfg['datamodule']['frame_count'],\n",
    "    seed = cfg['datamodule']['seed'],\n",
    "    video_transform = video_transform\n",
    ")\n",
    "\n",
    "test_dataset = Chalearn_VideoDataset(\n",
    "    video_dir = cfg['datamodule']['video_dir'],\n",
    "    label_dir = cfg['datamodule']['label_dir']['test'],\n",
    "    target_list = cfg['datamodule']['target_list'],\n",
    "    frame_count = cfg['datamodule']['frame_count'],\n",
    "    seed = cfg['datamodule']['seed'],\n",
    "    video_transform = video_transform\n",
    ")"
   ]
  },
  {
   "cell_type": "code",
   "execution_count": 2,
   "metadata": {},
   "outputs": [
    {
     "name": "stdout",
     "output_type": "stream",
     "text": [
      "train_dataset\n",
      "torch.Size([30, 3, 112, 112]) torch.Size([6])\n",
      "torch.Size([30, 3, 112, 112]) torch.Size([6])\n",
      "torch.Size([30, 3, 112, 112]) torch.Size([6])\n",
      "valid_dataset\n",
      "torch.Size([30, 3, 112, 112]) torch.Size([6])\n",
      "torch.Size([30, 3, 112, 112]) torch.Size([6])\n",
      "torch.Size([30, 3, 112, 112]) torch.Size([6])\n",
      "test_dataset\n",
      "torch.Size([30, 3, 112, 112]) torch.Size([6])\n",
      "torch.Size([30, 3, 112, 112]) torch.Size([6])\n",
      "torch.Size([30, 3, 112, 112]) torch.Size([6])\n"
     ]
    }
   ],
   "source": [
    "n = 3\n",
    "print(\"train_dataset\")\n",
    "for index in range(n):\n",
    "    x,y = train_dataset.__getitem__(index)\n",
    "    print(x['video'].shape, y['target_data'].shape)\n",
    "\n",
    "print(\"valid_dataset\")\n",
    "for index in range(n):\n",
    "    x,y = valid_dataset.__getitem__(index)\n",
    "    print(x['video'].shape, y['target_data'].shape)\n",
    "\n",
    "print(\"test_dataset\")\n",
    "for index in range(n):\n",
    "    x,y = test_dataset.__getitem__(index)\n",
    "    print(x['video'].shape, y['target_data'].shape)"
   ]
  },
  {
   "cell_type": "code",
   "execution_count": 3,
   "metadata": {},
   "outputs": [],
   "source": [
    "import yaml\n",
    "import sys\n",
    "sys.path.append('../')\n",
    "from dataset import Chalearn_AudioDataset\n",
    "\n",
    "config_path = \"./check_class.yaml\"\n",
    "cfg = yaml.load(open(config_path, \"r\"), Loader=yaml.FullLoader)\n",
    "\n",
    "train_dataset = Chalearn_AudioDataset(\n",
    "    audio_dir = cfg['datamodule']['audio_dir'],\n",
    "    label_dir = cfg['datamodule']['label_dir']['train'],\n",
    "    target_list = cfg['datamodule']['target_list'],\n",
    "    frame_count = cfg['datamodule']['frame_count']\n",
    ")\n",
    "\n",
    "valid_dataset = Chalearn_AudioDataset(\n",
    "    audio_dir = cfg['datamodule']['audio_dir'],\n",
    "    label_dir = cfg['datamodule']['label_dir']['valid'],\n",
    "    target_list = cfg['datamodule']['target_list'],\n",
    "    frame_count = cfg['datamodule']['frame_count']\n",
    ")\n",
    "\n",
    "test_dataset = Chalearn_AudioDataset(\n",
    "    audio_dir = cfg['datamodule']['audio_dir'],\n",
    "    label_dir = cfg['datamodule']['label_dir']['test'],\n",
    "    target_list = cfg['datamodule']['target_list'],\n",
    "    frame_count = cfg['datamodule']['frame_count']\n",
    ")"
   ]
  },
  {
   "cell_type": "code",
   "execution_count": 4,
   "metadata": {},
   "outputs": [
    {
     "name": "stdout",
     "output_type": "stream",
     "text": [
      "train_dataset\n",
      "torch.Size([30, 68]) torch.Size([6])\n",
      "torch.Size([30, 68]) torch.Size([6])\n",
      "torch.Size([30, 68]) torch.Size([6])\n",
      "valid_dataset\n",
      "torch.Size([30, 68]) torch.Size([6])\n",
      "torch.Size([30, 68]) torch.Size([6])\n",
      "torch.Size([30, 68]) torch.Size([6])\n",
      "test_dataset\n",
      "torch.Size([30, 68]) torch.Size([6])\n",
      "torch.Size([30, 68]) torch.Size([6])\n",
      "torch.Size([30, 68]) torch.Size([6])\n"
     ]
    }
   ],
   "source": [
    "n = 3\n",
    "print(\"train_dataset\")\n",
    "for index in range(n):\n",
    "    x,y = train_dataset.__getitem__(index)\n",
    "    print(x['audio'].shape, y['target_data'].shape)\n",
    "\n",
    "print(\"valid_dataset\")\n",
    "for index in range(n):\n",
    "    x,y = valid_dataset.__getitem__(index)\n",
    "    print(x['audio'].shape, y['target_data'].shape)\n",
    "\n",
    "print(\"test_dataset\")\n",
    "for index in range(n):\n",
    "    x,y = test_dataset.__getitem__(index)\n",
    "    print(x['audio'].shape, y['target_data'].shape)"
   ]
  }
 ],
 "metadata": {
  "kernelspec": {
   "display_name": "first_impression",
   "language": "python",
   "name": "python3"
  },
  "language_info": {
   "codemirror_mode": {
    "name": "ipython",
    "version": 3
   },
   "file_extension": ".py",
   "mimetype": "text/x-python",
   "name": "python",
   "nbconvert_exporter": "python",
   "pygments_lexer": "ipython3",
   "version": "3.8.16"
  },
  "orig_nbformat": 4
 },
 "nbformat": 4,
 "nbformat_minor": 2
}
