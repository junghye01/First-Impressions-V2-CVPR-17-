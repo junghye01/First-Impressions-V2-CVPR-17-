{
 "cells": [
  {
   "cell_type": "code",
   "execution_count": 1,
   "metadata": {},
   "outputs": [
    {
     "name": "stdout",
     "output_type": "stream",
     "text": [
      "torch.Size([32, 512])\n",
      "torch.Size([32, 6])\n",
      "torch.Size([32, 512]) torch.Size([32, 6])\n"
     ]
    }
   ],
   "source": [
    "import yaml\n",
    "import torch\n",
    "import sys\n",
    "sys.path.append('../')\n",
    "from network.encoder import VideoEncoder, AudioEncoder\n",
    "from network.regressor import VidoeRegressor, AudioRegressor\n",
    "from network import SingleModalModel\n",
    "\n",
    "config_path = \"./check_class.yaml\"\n",
    "cfg = yaml.load(open(config_path, \"r\"), Loader=yaml.FullLoader)\n",
    "\n",
    "video_encoder = VideoEncoder(\n",
    "    video_channels=cfg[\"module\"][\"encoder\"][\"video_channels\"],\n",
    "    video_input_size=cfg[\"module\"][\"encoder\"][\"video_input_size\"],\n",
    "    video_hidden_size=cfg[\"module\"][\"encoder\"][\"video_hidden_size\"],\n",
    "    video_num_layers=cfg[\"module\"][\"encoder\"][\"video_num_layers\"],\n",
    ")\n",
    "\n",
    "x = torch.randn(32,30,3,112,112)\n",
    "out = video_encoder(x)\n",
    "print(out.shape)\n",
    "\n",
    "video_regressor = VidoeRegressor(\n",
    "    video_hidden_size=cfg[\"module\"][\"encoder\"][\"video_hidden_size\"],\n",
    "    fusion_hidden_size=cfg[\"module\"][\"regressor\"][\"fusion_hidden_size\"],\n",
    "    num_class=cfg[\"module\"][\"regressor\"][\"num_class\"],\n",
    ")\n",
    "\n",
    "print(video_regressor(out).shape)\n",
    "\n",
    "model = SingleModalModel(\n",
    "    video_encoder,\n",
    "    video_regressor,\n",
    ")\n",
    "\n",
    "feature, pred = model(x)\n",
    "print(feature.shape, pred.shape)"
   ]
  },
  {
   "cell_type": "code",
   "execution_count": 3,
   "metadata": {},
   "outputs": [
    {
     "name": "stdout",
     "output_type": "stream",
     "text": [
      "torch.Size([32, 32])\n",
      "torch.Size([32, 6])\n",
      "torch.Size([32, 32]) torch.Size([32, 6])\n"
     ]
    }
   ],
   "source": [
    "audio_encoder = AudioEncoder(\n",
    "    audio_input_size=cfg[\"module\"][\"encoder\"][\"audio_input_size\"],\n",
    "    audio_hidden_size=cfg[\"module\"][\"encoder\"][\"audio_hidden_size\"],\n",
    "    audio_num_layers=cfg[\"module\"][\"encoder\"][\"audio_num_layers\"],\n",
    ")\n",
    "\n",
    "x = torch.randn(32,30,68)\n",
    "out = audio_encoder(x)\n",
    "print(out.shape)\n",
    "\n",
    "audio_regressor = AudioRegressor(\n",
    "    audio_hidden_size=cfg[\"module\"][\"encoder\"][\"audio_hidden_size\"],\n",
    "    num_class=cfg[\"module\"][\"regressor\"][\"num_class\"],\n",
    ")\n",
    "\n",
    "print(audio_regressor(out).shape)\n",
    "\n",
    "model = SingleModalModel(\n",
    "    audio_encoder,\n",
    "    audio_regressor,\n",
    ")\n",
    "\n",
    "feature, pred = model(x)\n",
    "print(feature.shape, pred.shape)"
   ]
  }
 ],
 "metadata": {
  "kernelspec": {
   "display_name": "first_impression",
   "language": "python",
   "name": "python3"
  },
  "language_info": {
   "codemirror_mode": {
    "name": "ipython",
    "version": 3
   },
   "file_extension": ".py",
   "mimetype": "text/x-python",
   "name": "python",
   "nbconvert_exporter": "python",
   "pygments_lexer": "ipython3",
   "version": "3.8.16"
  },
  "orig_nbformat": 4
 },
 "nbformat": 4,
 "nbformat_minor": 2
}
